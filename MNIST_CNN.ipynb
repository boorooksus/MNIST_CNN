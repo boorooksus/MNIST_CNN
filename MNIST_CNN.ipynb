{
  "nbformat": 4,
  "nbformat_minor": 0,
  "metadata": {
    "colab": {
      "name": "MNIST_CNN.ipynb",
      "provenance": [],
      "collapsed_sections": []
    },
    "kernelspec": {
      "name": "python3",
      "display_name": "Python 3"
    },
    "language_info": {
      "name": "python"
    },
    "accelerator": "GPU"
  },
  "cells": [
    {
      "cell_type": "code",
      "metadata": {
        "id": "ajBIafGBnKXn"
      },
      "source": [
        "import torch\n",
        "from torch.nn import CrossEntropyLoss\n",
        "import torch.optim as optim\n",
        "import torchvision\n",
        "import matplotlib.pyplot as plt\n",
        "import random"
      ],
      "execution_count": 1,
      "outputs": []
    },
    {
      "cell_type": "code",
      "metadata": {
        "id": "f-nZjFIkoc5C"
      },
      "source": [
        "# =====================\n",
        "# 데이터 불러오기\n",
        "# =====================\n",
        "\n",
        "train_data=torchvision.datasets.MNIST('./mnist/', train=True, download=True,\n",
        "                                transform=torchvision.transforms.Compose([\n",
        "                                torchvision.transforms.ToTensor(),\n",
        "                                torchvision.transforms.Normalize((0.5,), (0.5,))\n",
        "                                 ]))\n",
        "test_data=torchvision.datasets.MNIST('./mnist/', train=False, download=True,\n",
        "                                transform=torchvision.transforms.Compose([\n",
        "                                torchvision.transforms.ToTensor(),\n",
        "                                torchvision.transforms.Normalize((0.5,), (0.5,))\n",
        "                                ]))\n",
        "\n",
        "train_data, val_data = torch.utils.data.random_split(train_data, [len(train_data) - 1000, 1000])"
      ],
      "execution_count": null,
      "outputs": []
    },
    {
      "cell_type": "code",
      "metadata": {
        "id": "T24KOxZIol5Q"
      },
      "source": [
        "batch_size_train = 100\n",
        "batch_size_val = 100\n",
        "batch_size_test = 100\n",
        "\n",
        "train_loader = torch.utils.data.DataLoader(train_data,batch_size=batch_size_train, shuffle=True)\n",
        "val_loader = torch.utils.data.DataLoader(val_data,batch_size=batch_size_val, shuffle=True)\n",
        "test_loader = torch.utils.data.DataLoader(test_data,batch_size=batch_size_test, shuffle=True)"
      ],
      "execution_count": 3,
      "outputs": []
    },
    {
      "cell_type": "code",
      "metadata": {
        "id": "_gheE3NursvA"
      },
      "source": [
        "# =====================\n",
        "# 모델 구성\n",
        "# =====================\n",
        "\n",
        "from Model import Model\n",
        "\n",
        "model = Model().to('cuda')"
      ],
      "execution_count": 5,
      "outputs": []
    },
    {
      "cell_type": "code",
      "metadata": {
        "id": "FmnDb9tBttyZ"
      },
      "source": [
        "# =====================\n",
        "# Loss, Optimizer 구성\n",
        "# =====================\n",
        "\n",
        "compute_loss = torch.nn.CrossEntropyLoss().to('cuda')\n",
        "optimizer = torch.optim.Adam(model.parameters(), lr=0.01)"
      ],
      "execution_count": 6,
      "outputs": []
    },
    {
      "cell_type": "code",
      "metadata": {
        "colab": {
          "base_uri": "https://localhost:8080/"
        },
        "id": "yR9cJT28ue7Y",
        "outputId": "6234f613-dc03-4e44-ca6a-fd46f40d5a6f"
      },
      "source": [
        "# =====================\n",
        "# Train data로 학습\n",
        "# =====================\n",
        "\n",
        "train_losses = []\n",
        "val_losses = []\n",
        "\n",
        "for epoch in range(8):\n",
        "    avg_loss = 0\n",
        "    train_len = len(train_loader)\n",
        "\n",
        "    for batch_idx, (data, target) in enumerate(train_loader):\n",
        "        data = data.to('cuda')\n",
        "        target = target.to('cuda')\n",
        "\n",
        "        optimizer.zero_grad()\n",
        "\n",
        "        # Foward propagation\n",
        "        output = model(data)\n",
        "\n",
        "        # Computing loss\n",
        "        loss = compute_loss(output, target)\n",
        "        \n",
        "        # Back propagation\n",
        "        loss.backward()\n",
        "        optimizer.step()\n",
        "\n",
        "        avg_loss += loss / train_len\n",
        "\n",
        "    # Epoch가 한 번 끝날 때마다 Validation\n",
        "    else:\n",
        "      val_loss = 0\n",
        "      val_len = len(val_loader)\n",
        "\n",
        "      # grad 계산 안함\n",
        "      with torch.no_grad():\n",
        "        for X_val, y_val in val_loader:\n",
        "            X_val = X_val.to('cuda')\n",
        "            y_val = y_val.to('cuda')\n",
        "\n",
        "            pred = model(X_val)\n",
        "\n",
        "            # Computing loss\n",
        "            loss = compute_loss(pred, y_val)\n",
        "\n",
        "            val_loss += loss / val_len\n",
        "\n",
        "      val_losses.append(val_loss)\n",
        "      train_losses.append(avg_loss)\n",
        "        \n",
        "    print('epoch: %02d,' % (epoch + 1), 'train_loss = {:.3f},'.format(avg_loss), 'val_loss = {:.3f}'.format(val_loss))\n",
        "\n",
        "print('\\nTraining is completed')"
      ],
      "execution_count": 53,
      "outputs": [
        {
          "output_type": "stream",
          "text": [
            "epoch: 01, train_loss = 0.029, val_loss = 0.109\n",
            "epoch: 02, train_loss = 0.029, val_loss = 0.099\n",
            "epoch: 03, train_loss = 0.038, val_loss = 0.128\n",
            "epoch: 04, train_loss = 0.034, val_loss = 0.118\n",
            "epoch: 05, train_loss = 0.033, val_loss = 0.101\n",
            "epoch: 06, train_loss = 0.051, val_loss = 0.124\n",
            "epoch: 07, train_loss = 0.029, val_loss = 0.168\n",
            "epoch: 08, train_loss = 0.033, val_loss = 0.062\n",
            "\n",
            "Training is completed\n"
          ],
          "name": "stdout"
        }
      ]
    },
    {
      "cell_type": "code",
      "metadata": {
        "colab": {
          "base_uri": "https://localhost:8080/",
          "height": 279
        },
        "id": "Ho85maYzA1MO",
        "outputId": "7eff6dda-d7fc-4cdf-b099-74843cc494cc"
      },
      "source": [
        "# loss 그래프\n",
        "\n",
        "plt.plot(train_losses)\n",
        "plt.plot(val_losses)\n",
        "plt.xlabel(\"Epoch\")\n",
        "plt.ylabel(\"Loss\")\n",
        "plt.legend(['Train Loss', 'Val Loss'], loc='upper right')\n",
        "plt.grid()"
      ],
      "execution_count": 54,
      "outputs": [
        {
          "output_type": "display_data",
          "data": {
            "image/png": "[encoded data removed]",
            "text/plain": [
              "<Figure size 432x288 with 1 Axes>"
            ]
          },
          "metadata": {
            "tags": [],
            "needs_background": "light"
          }
        }
      ]
    },
    {
      "cell_type": "code",
      "metadata": {
        "colab": {
          "base_uri": "https://localhost:8080/"
        },
        "id": "qMxvEPpGC124",
        "outputId": "bbf390cb-ff49-4b88-e0b2-1f24a46f5733"
      },
      "source": [
        "# =====================\n",
        "# Test accuracy\n",
        "# =====================\n",
        "\n",
        "correct = 0\n",
        "total = 0\n",
        "\n",
        "# test data이므로 grad 계산 안함\n",
        "with torch.no_grad():\n",
        "  for batch_idx, (X_test, y_test) in enumerate(test_loader):\n",
        "      X_test = X_test.to('cuda')\n",
        "      y_test = y_test.to('cuda')\n",
        "\n",
        "      pred = model(X_test)\n",
        "      # pred의 각 행에서 가장 높은 값의 index 와 y_test가 일치한 개수\n",
        "      correct += (torch.argmax(pred, 1) == y_test).sum()\n",
        "      total += len(X_test)\n",
        "\n",
        "print('Accuracy: %d / %d'%(correct, total))"
      ],
      "execution_count": 55,
      "outputs": [
        {
          "output_type": "stream",
          "text": [
            "Accuracy: 9878 / 10000\n"
          ],
          "name": "stdout"
        }
      ]
    },
    {
      "cell_type": "code",
      "metadata": {
        "id": "KJbbn3Sjw1mw",
        "colab": {
          "base_uri": "https://localhost:8080/",
          "height": 301
        },
        "outputId": "5928c876-fb5a-41ec-c68b-8b8688c2cf18"
      },
      "source": [
        "# ==========================\n",
        "# 랜덤으로 숫자 뽑아서 test\n",
        "# ==========================\n",
        "\n",
        "r = random.randint(0, len(test_data)-1) # 0~9999까지 랜덤한 정수\n",
        "rand_data = test_data.data[r].view(-1, 1, 28, 28).float().to('cuda')\n",
        "rand_target = test_data.targets[r].to('cuda')\n",
        "\n",
        "plt.imshow(test_data.data[r].view(28,28), cmap='Greys', interpolation='nearest')\n",
        "plt.show()\n",
        "print('Random number:', rand_target.item())\n",
        "\n",
        "# 예측\n",
        "rand_pred = model(rand_data)\n",
        "print('Prediction result: ', torch.argmax(rand_pred, 1).item())"
      ],
      "execution_count": 70,
      "outputs": [
        {
          "output_type": "display_data",
          "data": {
            "image/png": "[encoded data removed]",
            "text/plain": [
              "<Figure size 432x288 with 1 Axes>"
            ]
          },
          "metadata": {
            "tags": [],
            "needs_background": "light"
          }
        },
        {
          "output_type": "stream",
          "text": [
            "Random number: 8\n",
            "Prediction result:  8\n"
          ],
          "name": "stdout"
        }
      ]
    }
  ]
}