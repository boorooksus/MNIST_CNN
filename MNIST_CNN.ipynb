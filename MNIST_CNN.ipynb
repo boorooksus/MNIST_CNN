{
  "nbformat": 4,
  "nbformat_minor": 0,
  "metadata": {
    "colab": {
      "name": "MNIST_CNN.ipynb",
      "provenance": [],
      "collapsed_sections": []
    },
    "kernelspec": {
      "name": "python3",
      "display_name": "Python 3"
    },
    "language_info": {
      "name": "python"
    },
    "accelerator": "GPU"
  },
  "cells": [
    {
      "cell_type": "code",
      "metadata": {
        "id": "ajBIafGBnKXn"
      },
      "source": [
        "import torch\n",
        "from torch.nn import CrossEntropyLoss\n",
        "import torch.optim as optim\n",
        "import torchvision\n",
        "import matplotlib.pyplot as plt\n",
        "import random"
      ],
      "execution_count": 1,
      "outputs": []
    },
    {
      "cell_type": "code",
      "metadata": {
        "id": "f-nZjFIkoc5C"
      },
      "source": [
        "# =====================\n",
        "# 데이터 불러오기\n",
        "# =====================\n",
        "\n",
        "train_data=torchvision.datasets.MNIST('./mnist/', train=True, download=True,\n",
        "                                transform=torchvision.transforms.Compose([\n",
        "                                torchvision.transforms.ToTensor(),\n",
        "                                torchvision.transforms.Normalize((0.5,), (0.5,))\n",
        "                                 ]))\n",
        "test_data=torchvision.datasets.MNIST('./mnist/', train=False, download=True,\n",
        "                                transform=torchvision.transforms.Compose([\n",
        "                                torchvision.transforms.ToTensor(),\n",
        "                                torchvision.transforms.Normalize((0.5,), (0.5,))\n",
        "                                ]))\n",
        "\n",
        "train_data, val_data = torch.utils.data.random_split(train_data, [len(train_data) - 1000, 1000])"
      ],
      "execution_count": null,
      "outputs": []
    },
    {
      "cell_type": "code",
      "metadata": {
        "id": "T24KOxZIol5Q"
      },
      "source": [
        "batch_size_train = 100\n",
        "batch_size_val = 100\n",
        "batch_size_test = 100\n",
        "\n",
        "train_loader = torch.utils.data.DataLoader(train_data,batch_size=batch_size_train, shuffle=True)\n",
        "val_loader = torch.utils.data.DataLoader(val_data,batch_size=batch_size_val, shuffle=True)\n",
        "test_loader = torch.utils.data.DataLoader(test_data,batch_size=batch_size_test, shuffle=True)"
      ],
      "execution_count": 3,
      "outputs": []
    },
    {
      "cell_type": "code",
      "metadata": {
        "id": "_gheE3NursvA"
      },
      "source": [
        "# =====================\n",
        "# 모델 구성\n",
        "# =====================\n",
        "\n",
        "from Model import Model\n",
        "\n",
        "model = Model().to('cuda')"
      ],
      "execution_count": 4,
      "outputs": []
    },
    {
      "cell_type": "code",
      "metadata": {
        "id": "FmnDb9tBttyZ"
      },
      "source": [
        "# =====================\n",
        "# Loss, Optimizer 구성\n",
        "# =====================\n",
        "\n",
        "compute_loss = torch.nn.CrossEntropyLoss().to('cuda')\n",
        "optimizer = torch.optim.Adam(model.parameters(), lr=0.01)"
      ],
      "execution_count": 5,
      "outputs": []
    },
    {
      "cell_type": "code",
      "metadata": {
        "colab": {
          "base_uri": "https://localhost:8080/"
        },
        "id": "yR9cJT28ue7Y",
        "outputId": "552eaf3b-89d4-4d28-b48a-dbf2cd4e67d0"
      },
      "source": [
        "# =====================\n",
        "# Train data로 학습\n",
        "# =====================\n",
        "\n",
        "train_losses = []\n",
        "val_losses = []\n",
        "\n",
        "for epoch in range(5):\n",
        "    avg_loss = 0\n",
        "    train_len = len(train_loader)\n",
        "\n",
        "    for batch_idx, (data, target) in enumerate(train_loader):\n",
        "        data = data.to('cuda')\n",
        "        target = target.to('cuda')\n",
        "\n",
        "        optimizer.zero_grad()\n",
        "\n",
        "        # Foward propagation\n",
        "        output = model(data)\n",
        "\n",
        "        # Computing loss\n",
        "        loss = compute_loss(output, target)\n",
        "        \n",
        "        # Back propagation\n",
        "        loss.backward()\n",
        "        optimizer.step()\n",
        "\n",
        "        avg_loss += loss / train_len\n",
        "\n",
        "    # Epoch가 한 번 끝날 때마다 Validation\n",
        "    else:\n",
        "      val_loss = 0\n",
        "      val_len = len(val_loader)\n",
        "\n",
        "      # grad 계산 안함\n",
        "      with torch.no_grad():\n",
        "        for X_val, y_val in val_loader:\n",
        "            X_val = X_val.to('cuda')\n",
        "            y_val = y_val.to('cuda')\n",
        "\n",
        "            pred = model(X_val)\n",
        "\n",
        "            # Computing loss\n",
        "            loss = compute_loss(pred, y_val)\n",
        "\n",
        "            val_loss += loss / val_len\n",
        "\n",
        "      val_losses.append(val_loss)\n",
        "      train_losses.append(avg_loss)\n",
        "        \n",
        "    print('epoch: %02d,' % (epoch + 1), 'train_loss = {:.3f},'.format(avg_loss), 'val_loss = {:.3f}'.format(val_loss))\n",
        "\n",
        "print('\\nTraining is completed')"
      ],
      "execution_count": 6,
      "outputs": [
        {
          "output_type": "stream",
          "text": [
            "epoch: 01, train_loss = 0.170, val_loss = 0.055\n",
            "epoch: 02, train_loss = 0.068, val_loss = 0.048\n",
            "epoch: 03, train_loss = 0.055, val_loss = 0.041\n",
            "epoch: 04, train_loss = 0.051, val_loss = 0.047\n",
            "epoch: 05, train_loss = 0.046, val_loss = 0.094\n",
            "\n",
            "Training is completed\n"
          ],
          "name": "stdout"
        }
      ]
    },
    {
      "cell_type": "code",
      "metadata": {
        "colab": {
          "base_uri": "https://localhost:8080/",
          "height": 279
        },
        "id": "Ho85maYzA1MO",
        "outputId": "9d721073-7fa6-4a0a-e1d8-f285092d7c3f"
      },
      "source": [
        "# loss 그래프\n",
        "\n",
        "plt.plot(train_losses)\n",
        "plt.plot(val_losses)\n",
        "plt.xlabel(\"Epoch\")\n",
        "plt.ylabel(\"Loss\")\n",
        "plt.legend(['Train Loss', 'Val Loss'], loc='upper right')\n",
        "plt.grid()"
      ],
      "execution_count": 7,
      "outputs": [
        {
          "output_type": "display_data",
          "data": {
            "image/png": "[encoded data removed]",
            "text/plain": [
              "<Figure size 432x288 with 1 Axes>"
            ]
          },
          "metadata": {
            "tags": [],
            "needs_background": "light"
          }
        }
      ]
    },
    {
      "cell_type": "code",
      "metadata": {
        "colab": {
          "base_uri": "https://localhost:8080/"
        },
        "id": "qMxvEPpGC124",
        "outputId": "f4475882-668b-491b-8a0a-37cc780f3017"
      },
      "source": [
        "# =====================\n",
        "# Test accuracy\n",
        "# =====================\n",
        "\n",
        "correct = 0\n",
        "total = 0\n",
        "\n",
        "# test data이므로 grad 계산 안함\n",
        "with torch.no_grad():\n",
        "  for batch_idx, (X_test, y_test) in enumerate(test_loader):\n",
        "      X_test = X_test.to('cuda')\n",
        "      y_test = y_test.to('cuda')\n",
        "\n",
        "      pred = model(X_test)\n",
        "      # pred의 각 행에서 가장 높은 값의 index 와 y_test가 일치한 개수\n",
        "      correct += (torch.argmax(pred, 1) == y_test).sum()\n",
        "      total += len(X_test)\n",
        "\n",
        "print('Accuracy: %d / %d'%(correct, total))"
      ],
      "execution_count": 8,
      "outputs": [
        {
          "output_type": "stream",
          "text": [
            "Accuracy: 9811 / 10000\n"
          ],
          "name": "stdout"
        }
      ]
    },
    {
      "cell_type": "code",
      "metadata": {
        "id": "KJbbn3Sjw1mw",
        "colab": {
          "base_uri": "https://localhost:8080/",
          "height": 301
        },
        "outputId": "f082a397-0db6-4a84-e6c0-3b540d8063da"
      },
      "source": [
        "# ==========================\n",
        "# 랜덤으로 숫자 뽑아서 test\n",
        "# ==========================\n",
        "\n",
        "r = random.randint(0, len(test_data)-1) # 0~9999까지 랜덤한 정수\n",
        "rand_data = test_data.data[r].view(-1, 1, 28, 28).float().to('cuda')\n",
        "rand_target = test_data.targets[r].to('cuda')\n",
        "\n",
        "plt.imshow(test_data.data[r].view(28,28), cmap='Greys', interpolation='nearest')\n",
        "plt.show()\n",
        "print('Random number:', rand_target.item())\n",
        "\n",
        "# 예측\n",
        "rand_pred = model(rand_data)\n",
        "print('Prediction result: ', torch.argmax(rand_pred, 1).item())"
      ],
      "execution_count": 10,
      "outputs": [
        {
          "output_type": "display_data",
          "data": {
            "image/png": "[encoded data removed]",
            "text/plain": [
              "<Figure size 432x288 with 1 Axes>"
            ]
          },
          "metadata": {
            "tags": [],
            "needs_background": "light"
          }
        },
        {
          "output_type": "stream",
          "text": [
            "Random number: 1\n",
            "Prediction result:  1\n"
          ],
          "name": "stdout"
        }
      ]
    }
  ]
}